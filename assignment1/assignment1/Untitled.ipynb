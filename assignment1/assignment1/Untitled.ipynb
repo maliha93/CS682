{
 "cells": [
  {
   "cell_type": "code",
   "execution_count": 29,
   "metadata": {},
   "outputs": [
    {
     "name": "stdout",
     "output_type": "stream",
     "text": [
      "40\n",
      "[0 0 0 9]\n"
     ]
    }
   ],
   "source": [
    "import numpy as np\n",
    "ar = np.array([[1,0,3],[0,5,6],[6,0,0],[0,9,10]])\n",
    "y = np.array([1, 0, 2, 1])\n",
    "\n",
    "print(np.sum(ar))\n",
    "\n",
    "\n",
    "print(ar[np.arange(4), y])\n",
    "\n"
   ]
  }
 ],
 "metadata": {
  "kernelspec": {
   "display_name": "Python 3",
   "language": "python",
   "name": "python3"
  },
  "language_info": {
   "codemirror_mode": {
    "name": "ipython",
    "version": 3
   },
   "file_extension": ".py",
   "mimetype": "text/x-python",
   "name": "python",
   "nbconvert_exporter": "python",
   "pygments_lexer": "ipython3",
   "version": "3.6.9"
  }
 },
 "nbformat": 4,
 "nbformat_minor": 2
}
